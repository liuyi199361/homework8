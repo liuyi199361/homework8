{
 "cells": [
  {
   "cell_type": "markdown",
   "id": "58185b3c",
   "metadata": {
    "id": "58185b3c"
   },
   "source": [
    "### Paycheck Protection Program\n",
    "\n",
    "Let's analyze **an excerpt** from  <a href=\"https://www.sba.gov/funding-programs/loans/covid-19-relief-options/paycheck-protection-program\">SBA's PPP loan data</a>.\n",
    "\n",
    "The file we're working on is an excerpt (ingested via a link below) so we can't draw any hypothesis from our findings in this homework."
   ]
  },
  {
   "cell_type": "code",
   "execution_count": null,
   "id": "b9d5ab90",
   "metadata": {},
   "outputs": [],
   "source": []
  },
  {
   "cell_type": "code",
   "execution_count": 1,
   "id": "2ab0d68b",
   "metadata": {
    "id": "2ab0d68b"
   },
   "outputs": [],
   "source": [
    "## import library\n",
    "import pandas as pd"
   ]
  },
  {
   "cell_type": "code",
   "execution_count": 2,
   "id": "c4f25fe3",
   "metadata": {
    "id": "c4f25fe3"
   },
   "outputs": [
    {
     "data": {
      "text/html": [
       "<div>\n",
       "<style scoped>\n",
       "    .dataframe tbody tr th:only-of-type {\n",
       "        vertical-align: middle;\n",
       "    }\n",
       "\n",
       "    .dataframe tbody tr th {\n",
       "        vertical-align: top;\n",
       "    }\n",
       "\n",
       "    .dataframe thead th {\n",
       "        text-align: right;\n",
       "    }\n",
       "</style>\n",
       "<table border=\"1\" class=\"dataframe\">\n",
       "  <thead>\n",
       "    <tr style=\"text-align: right;\">\n",
       "      <th></th>\n",
       "      <th>LoanNumber</th>\n",
       "      <th>DateApproved</th>\n",
       "      <th>SBAOfficeCode</th>\n",
       "      <th>ProcessingMethod</th>\n",
       "      <th>BorrowerName</th>\n",
       "      <th>BorrowerAddress</th>\n",
       "      <th>BorrowerCity</th>\n",
       "      <th>BorrowerState</th>\n",
       "      <th>BorrowerZip</th>\n",
       "      <th>LoanStatusDate</th>\n",
       "      <th>...</th>\n",
       "      <th>BusinessType</th>\n",
       "      <th>OriginatingLenderLocationID</th>\n",
       "      <th>OriginatingLender</th>\n",
       "      <th>OriginatingLenderCity</th>\n",
       "      <th>OriginatingLenderState</th>\n",
       "      <th>Gender</th>\n",
       "      <th>Veteran</th>\n",
       "      <th>NonProfit</th>\n",
       "      <th>ForgivenessAmount</th>\n",
       "      <th>ForgivenessDate</th>\n",
       "    </tr>\n",
       "  </thead>\n",
       "  <tbody>\n",
       "    <tr>\n",
       "      <th>0</th>\n",
       "      <td>9547507704</td>\n",
       "      <td>05/01/2020</td>\n",
       "      <td>464</td>\n",
       "      <td>PPP</td>\n",
       "      <td>SUMTER COATINGS, INC.</td>\n",
       "      <td>2410 Highway 15 South</td>\n",
       "      <td>Sumter</td>\n",
       "      <td>NaN</td>\n",
       "      <td>29150-9662</td>\n",
       "      <td>12/18/2020</td>\n",
       "      <td>...</td>\n",
       "      <td>Corporation</td>\n",
       "      <td>19248</td>\n",
       "      <td>Synovus Bank</td>\n",
       "      <td>COLUMBUS</td>\n",
       "      <td>GA</td>\n",
       "      <td>Unanswered</td>\n",
       "      <td>Unanswered</td>\n",
       "      <td>NaN</td>\n",
       "      <td>773553.37</td>\n",
       "      <td>11/20/2020</td>\n",
       "    </tr>\n",
       "    <tr>\n",
       "      <th>1</th>\n",
       "      <td>9777677704</td>\n",
       "      <td>05/01/2020</td>\n",
       "      <td>464</td>\n",
       "      <td>PPP</td>\n",
       "      <td>PLEASANT PLACES, INC.</td>\n",
       "      <td>7684 Southrail Road</td>\n",
       "      <td>North Charleston</td>\n",
       "      <td>NaN</td>\n",
       "      <td>29420-9000</td>\n",
       "      <td>09/28/2021</td>\n",
       "      <td>...</td>\n",
       "      <td>Sole Proprietorship</td>\n",
       "      <td>19248</td>\n",
       "      <td>Synovus Bank</td>\n",
       "      <td>COLUMBUS</td>\n",
       "      <td>GA</td>\n",
       "      <td>Male Owned</td>\n",
       "      <td>Non-Veteran</td>\n",
       "      <td>NaN</td>\n",
       "      <td>746336.24</td>\n",
       "      <td>08/12/2021</td>\n",
       "    </tr>\n",
       "    <tr>\n",
       "      <th>2</th>\n",
       "      <td>5791407702</td>\n",
       "      <td>05/01/2020</td>\n",
       "      <td>1013</td>\n",
       "      <td>PPP</td>\n",
       "      <td>BOYER CHILDREN'S CLINIC</td>\n",
       "      <td>1850 BOYER AVE E</td>\n",
       "      <td>SEATTLE</td>\n",
       "      <td>NaN</td>\n",
       "      <td>98112-2922</td>\n",
       "      <td>03/17/2021</td>\n",
       "      <td>...</td>\n",
       "      <td>Non-Profit Organization</td>\n",
       "      <td>9551</td>\n",
       "      <td>Bank of America, National Association</td>\n",
       "      <td>CHARLOTTE</td>\n",
       "      <td>NC</td>\n",
       "      <td>Unanswered</td>\n",
       "      <td>Unanswered</td>\n",
       "      <td>Y</td>\n",
       "      <td>696677.49</td>\n",
       "      <td>02/10/2021</td>\n",
       "    </tr>\n",
       "    <tr>\n",
       "      <th>3</th>\n",
       "      <td>6223567700</td>\n",
       "      <td>05/01/2020</td>\n",
       "      <td>920</td>\n",
       "      <td>PPP</td>\n",
       "      <td>KIRTLEY CONSTRUCTION INC</td>\n",
       "      <td>1661 MARTIN RANCH RD</td>\n",
       "      <td>SAN BERNARDINO</td>\n",
       "      <td>NaN</td>\n",
       "      <td>92407-1740</td>\n",
       "      <td>10/16/2021</td>\n",
       "      <td>...</td>\n",
       "      <td>Corporation</td>\n",
       "      <td>9551</td>\n",
       "      <td>Bank of America, National Association</td>\n",
       "      <td>CHARLOTTE</td>\n",
       "      <td>NC</td>\n",
       "      <td>Male Owned</td>\n",
       "      <td>Non-Veteran</td>\n",
       "      <td>NaN</td>\n",
       "      <td>395264.11</td>\n",
       "      <td>09/10/2021</td>\n",
       "    </tr>\n",
       "    <tr>\n",
       "      <th>4</th>\n",
       "      <td>9662437702</td>\n",
       "      <td>05/01/2020</td>\n",
       "      <td>101</td>\n",
       "      <td>PPP</td>\n",
       "      <td>AERO BOX LLC</td>\n",
       "      <td>NaN</td>\n",
       "      <td>NaN</td>\n",
       "      <td>NaN</td>\n",
       "      <td>NaN</td>\n",
       "      <td>08/17/2021</td>\n",
       "      <td>...</td>\n",
       "      <td>NaN</td>\n",
       "      <td>57328</td>\n",
       "      <td>The Huntington National Bank</td>\n",
       "      <td>COLUMBUS</td>\n",
       "      <td>OH</td>\n",
       "      <td>Unanswered</td>\n",
       "      <td>Unanswered</td>\n",
       "      <td>NaN</td>\n",
       "      <td>370819.35</td>\n",
       "      <td>04/08/2021</td>\n",
       "    </tr>\n",
       "    <tr>\n",
       "      <th>...</th>\n",
       "      <td>...</td>\n",
       "      <td>...</td>\n",
       "      <td>...</td>\n",
       "      <td>...</td>\n",
       "      <td>...</td>\n",
       "      <td>...</td>\n",
       "      <td>...</td>\n",
       "      <td>...</td>\n",
       "      <td>...</td>\n",
       "      <td>...</td>\n",
       "      <td>...</td>\n",
       "      <td>...</td>\n",
       "      <td>...</td>\n",
       "      <td>...</td>\n",
       "      <td>...</td>\n",
       "      <td>...</td>\n",
       "      <td>...</td>\n",
       "      <td>...</td>\n",
       "      <td>...</td>\n",
       "      <td>...</td>\n",
       "      <td>...</td>\n",
       "    </tr>\n",
       "    <tr>\n",
       "      <th>995</th>\n",
       "      <td>3857047706</td>\n",
       "      <td>05/01/2020</td>\n",
       "      <td>1084</td>\n",
       "      <td>PPP</td>\n",
       "      <td>NORTHERN ALASKA CONTRACTORS LLC</td>\n",
       "      <td>3610 MERE CIRCLE</td>\n",
       "      <td>ANCHORAGE</td>\n",
       "      <td>AK</td>\n",
       "      <td>99502</td>\n",
       "      <td>07/13/2021</td>\n",
       "      <td>...</td>\n",
       "      <td>Limited  Liability Company(LLC)</td>\n",
       "      <td>12096</td>\n",
       "      <td>Wells Fargo Bank, National Association</td>\n",
       "      <td>SIOUX FALLS</td>\n",
       "      <td>SD</td>\n",
       "      <td>Unanswered</td>\n",
       "      <td>Unanswered</td>\n",
       "      <td>NaN</td>\n",
       "      <td>372875.94</td>\n",
       "      <td>06/22/2021</td>\n",
       "    </tr>\n",
       "    <tr>\n",
       "      <th>996</th>\n",
       "      <td>6411717106</td>\n",
       "      <td>04/14/2020</td>\n",
       "      <td>1084</td>\n",
       "      <td>PPP</td>\n",
       "      <td>L&amp;M EQUIPMENT, INC.</td>\n",
       "      <td>PO BOX 241</td>\n",
       "      <td>NAKNEK</td>\n",
       "      <td>AK</td>\n",
       "      <td>99633</td>\n",
       "      <td>04/27/2021</td>\n",
       "      <td>...</td>\n",
       "      <td>Corporation</td>\n",
       "      <td>3386</td>\n",
       "      <td>First National Bank Alaska</td>\n",
       "      <td>ANCHORAGE</td>\n",
       "      <td>AK</td>\n",
       "      <td>Male Owned</td>\n",
       "      <td>Non-Veteran</td>\n",
       "      <td>NaN</td>\n",
       "      <td>360636.31</td>\n",
       "      <td>12/17/2020</td>\n",
       "    </tr>\n",
       "    <tr>\n",
       "      <th>997</th>\n",
       "      <td>6297468301</td>\n",
       "      <td>01/26/2021</td>\n",
       "      <td>1084</td>\n",
       "      <td>PPS</td>\n",
       "      <td>EL CAPITAN LODGE LLC</td>\n",
       "      <td>1 Sarkar Rd.</td>\n",
       "      <td>Sarkar Cove</td>\n",
       "      <td>AK</td>\n",
       "      <td>99921</td>\n",
       "      <td>NaN</td>\n",
       "      <td>...</td>\n",
       "      <td>Limited  Liability Company(LLC)</td>\n",
       "      <td>59358</td>\n",
       "      <td>BOKF, National Association</td>\n",
       "      <td>TULSA</td>\n",
       "      <td>OK</td>\n",
       "      <td>Male Owned</td>\n",
       "      <td>Non-Veteran</td>\n",
       "      <td>NaN</td>\n",
       "      <td>372821.37</td>\n",
       "      <td>06/07/2022</td>\n",
       "    </tr>\n",
       "    <tr>\n",
       "      <th>998</th>\n",
       "      <td>6226697002</td>\n",
       "      <td>04/06/2020</td>\n",
       "      <td>1084</td>\n",
       "      <td>PPP</td>\n",
       "      <td>WASILLA DRIVE-IN LLC</td>\n",
       "      <td>2051 E. Sun Mountain Ave.</td>\n",
       "      <td>WASILLA</td>\n",
       "      <td>AK</td>\n",
       "      <td>99654-7351</td>\n",
       "      <td>08/19/2021</td>\n",
       "      <td>...</td>\n",
       "      <td>Limited  Liability Company(LLC)</td>\n",
       "      <td>116975</td>\n",
       "      <td>Northrim Bank</td>\n",
       "      <td>ANCHORAGE</td>\n",
       "      <td>AK</td>\n",
       "      <td>Unanswered</td>\n",
       "      <td>Unanswered</td>\n",
       "      <td>NaN</td>\n",
       "      <td>372314.56</td>\n",
       "      <td>07/22/2021</td>\n",
       "    </tr>\n",
       "    <tr>\n",
       "      <th>999</th>\n",
       "      <td>3933197207</td>\n",
       "      <td>04/27/2020</td>\n",
       "      <td>1084</td>\n",
       "      <td>PPP</td>\n",
       "      <td>TRIVERUS, LLC</td>\n",
       "      <td>1960 S Eklutna St</td>\n",
       "      <td>Palmer</td>\n",
       "      <td>AK</td>\n",
       "      <td>99645</td>\n",
       "      <td>07/20/2021</td>\n",
       "      <td>...</td>\n",
       "      <td>Limited  Liability Company(LLC)</td>\n",
       "      <td>116975</td>\n",
       "      <td>Northrim Bank</td>\n",
       "      <td>ANCHORAGE</td>\n",
       "      <td>AK</td>\n",
       "      <td>Male Owned</td>\n",
       "      <td>Non-Veteran</td>\n",
       "      <td>NaN</td>\n",
       "      <td>371221.68</td>\n",
       "      <td>06/02/2021</td>\n",
       "    </tr>\n",
       "  </tbody>\n",
       "</table>\n",
       "<p>1000 rows × 53 columns</p>\n",
       "</div>"
      ],
      "text/plain": [
       "     LoanNumber DateApproved  SBAOfficeCode ProcessingMethod  \\\n",
       "0    9547507704   05/01/2020            464              PPP   \n",
       "1    9777677704   05/01/2020            464              PPP   \n",
       "2    5791407702   05/01/2020           1013              PPP   \n",
       "3    6223567700   05/01/2020            920              PPP   \n",
       "4    9662437702   05/01/2020            101              PPP   \n",
       "..          ...          ...            ...              ...   \n",
       "995  3857047706   05/01/2020           1084              PPP   \n",
       "996  6411717106   04/14/2020           1084              PPP   \n",
       "997  6297468301   01/26/2021           1084              PPS   \n",
       "998  6226697002   04/06/2020           1084              PPP   \n",
       "999  3933197207   04/27/2020           1084              PPP   \n",
       "\n",
       "                        BorrowerName            BorrowerAddress  \\\n",
       "0              SUMTER COATINGS, INC.      2410 Highway 15 South   \n",
       "1              PLEASANT PLACES, INC.        7684 Southrail Road   \n",
       "2            BOYER CHILDREN'S CLINIC           1850 BOYER AVE E   \n",
       "3           KIRTLEY CONSTRUCTION INC       1661 MARTIN RANCH RD   \n",
       "4                       AERO BOX LLC                        NaN   \n",
       "..                               ...                        ...   \n",
       "995  NORTHERN ALASKA CONTRACTORS LLC           3610 MERE CIRCLE   \n",
       "996              L&M EQUIPMENT, INC.                 PO BOX 241   \n",
       "997             EL CAPITAN LODGE LLC               1 Sarkar Rd.   \n",
       "998             WASILLA DRIVE-IN LLC  2051 E. Sun Mountain Ave.   \n",
       "999                    TRIVERUS, LLC          1960 S Eklutna St   \n",
       "\n",
       "         BorrowerCity BorrowerState BorrowerZip LoanStatusDate  ...  \\\n",
       "0              Sumter           NaN  29150-9662     12/18/2020  ...   \n",
       "1    North Charleston           NaN  29420-9000     09/28/2021  ...   \n",
       "2             SEATTLE           NaN  98112-2922     03/17/2021  ...   \n",
       "3      SAN BERNARDINO           NaN  92407-1740     10/16/2021  ...   \n",
       "4                 NaN           NaN         NaN     08/17/2021  ...   \n",
       "..                ...           ...         ...            ...  ...   \n",
       "995         ANCHORAGE            AK       99502     07/13/2021  ...   \n",
       "996            NAKNEK            AK       99633     04/27/2021  ...   \n",
       "997       Sarkar Cove            AK       99921            NaN  ...   \n",
       "998           WASILLA            AK  99654-7351     08/19/2021  ...   \n",
       "999            Palmer            AK       99645     07/20/2021  ...   \n",
       "\n",
       "                        BusinessType  OriginatingLenderLocationID  \\\n",
       "0                        Corporation                        19248   \n",
       "1                Sole Proprietorship                        19248   \n",
       "2            Non-Profit Organization                         9551   \n",
       "3                        Corporation                         9551   \n",
       "4                                NaN                        57328   \n",
       "..                               ...                          ...   \n",
       "995  Limited  Liability Company(LLC)                        12096   \n",
       "996                      Corporation                         3386   \n",
       "997  Limited  Liability Company(LLC)                        59358   \n",
       "998  Limited  Liability Company(LLC)                       116975   \n",
       "999  Limited  Liability Company(LLC)                       116975   \n",
       "\n",
       "                          OriginatingLender  OriginatingLenderCity  \\\n",
       "0                              Synovus Bank               COLUMBUS   \n",
       "1                              Synovus Bank               COLUMBUS   \n",
       "2     Bank of America, National Association              CHARLOTTE   \n",
       "3     Bank of America, National Association              CHARLOTTE   \n",
       "4              The Huntington National Bank               COLUMBUS   \n",
       "..                                      ...                    ...   \n",
       "995  Wells Fargo Bank, National Association            SIOUX FALLS   \n",
       "996              First National Bank Alaska              ANCHORAGE   \n",
       "997              BOKF, National Association                  TULSA   \n",
       "998                           Northrim Bank              ANCHORAGE   \n",
       "999                           Northrim Bank              ANCHORAGE   \n",
       "\n",
       "     OriginatingLenderState      Gender      Veteran  NonProfit  \\\n",
       "0                        GA  Unanswered   Unanswered        NaN   \n",
       "1                        GA  Male Owned  Non-Veteran        NaN   \n",
       "2                        NC  Unanswered   Unanswered          Y   \n",
       "3                        NC  Male Owned  Non-Veteran        NaN   \n",
       "4                        OH  Unanswered   Unanswered        NaN   \n",
       "..                      ...         ...          ...        ...   \n",
       "995                      SD  Unanswered   Unanswered        NaN   \n",
       "996                      AK  Male Owned  Non-Veteran        NaN   \n",
       "997                      OK  Male Owned  Non-Veteran        NaN   \n",
       "998                      AK  Unanswered   Unanswered        NaN   \n",
       "999                      AK  Male Owned  Non-Veteran        NaN   \n",
       "\n",
       "    ForgivenessAmount ForgivenessDate  \n",
       "0           773553.37      11/20/2020  \n",
       "1           746336.24      08/12/2021  \n",
       "2           696677.49      02/10/2021  \n",
       "3           395264.11      09/10/2021  \n",
       "4           370819.35      04/08/2021  \n",
       "..                ...             ...  \n",
       "995         372875.94      06/22/2021  \n",
       "996         360636.31      12/17/2020  \n",
       "997         372821.37      06/07/2022  \n",
       "998         372314.56      07/22/2021  \n",
       "999         371221.68      06/02/2021  \n",
       "\n",
       "[1000 rows x 53 columns]"
      ]
     },
     "execution_count": 2,
     "metadata": {},
     "output_type": "execute_result"
    }
   ],
   "source": [
    "## Ingest remote data\n",
    "df = pd.read_csv(\"https://raw.githubusercontent.com/sandeepmj/datasets/main/ppp_excerpt.csv\")\n",
    "df"
   ]
  },
  {
   "cell_type": "code",
   "execution_count": 5,
   "id": "4f959248",
   "metadata": {
    "id": "4f959248"
   },
   "outputs": [
    {
     "name": "stdout",
     "output_type": "stream",
     "text": [
      "<class 'pandas.core.frame.DataFrame'>\n",
      "RangeIndex: 1000 entries, 0 to 999\n",
      "Data columns (total 53 columns):\n",
      " #   Column                       Non-Null Count  Dtype  \n",
      "---  ------                       --------------  -----  \n",
      " 0   LoanNumber                   1000 non-null   int64  \n",
      " 1   DateApproved                 1000 non-null   object \n",
      " 2   SBAOfficeCode                1000 non-null   int64  \n",
      " 3   ProcessingMethod             1000 non-null   object \n",
      " 4   BorrowerName                 1000 non-null   object \n",
      " 5   BorrowerAddress              992 non-null    object \n",
      " 6   BorrowerCity                 992 non-null    object \n",
      " 7   BorrowerState                987 non-null    object \n",
      " 8   BorrowerZip                  992 non-null    object \n",
      " 9   LoanStatusDate               916 non-null    object \n",
      " 10  LoanStatus                   1000 non-null   object \n",
      " 11  Term                         1000 non-null   int64  \n",
      " 12  SBAGuarantyPercentage        1000 non-null   int64  \n",
      " 13  InitialApprovalAmount        1000 non-null   float64\n",
      " 14  CurrentApprovalAmount        1000 non-null   float64\n",
      " 15  UndisbursedAmount            1000 non-null   int64  \n",
      " 16  FranchiseName                34 non-null     object \n",
      " 17  ServicingLenderLocationID    1000 non-null   int64  \n",
      " 18  ServicingLenderName          1000 non-null   object \n",
      " 19  ServicingLenderAddress       1000 non-null   object \n",
      " 20  ServicingLenderCity          1000 non-null   object \n",
      " 21  ServicingLenderState         1000 non-null   object \n",
      " 22  ServicingLenderZip           1000 non-null   object \n",
      " 23  RuralUrbanIndicator          1000 non-null   object \n",
      " 24  HubzoneIndicator             1000 non-null   object \n",
      " 25  LMIIndicator                 1000 non-null   object \n",
      " 26  BusinessAgeDescription       1000 non-null   object \n",
      " 27  ProjectCity                  992 non-null    object \n",
      " 28  ProjectCountyName            992 non-null    object \n",
      " 29  ProjectState                 992 non-null    object \n",
      " 30  ProjectZip                   992 non-null    object \n",
      " 31  CD                           992 non-null    object \n",
      " 32  JobsReported                 1000 non-null   int64  \n",
      " 33  NAICSCode                    999 non-null    float64\n",
      " 34  Race                         1000 non-null   object \n",
      " 35  Ethnicity                    1000 non-null   object \n",
      " 36  UTILITIES_PROCEED            413 non-null    float64\n",
      " 37  PAYROLL_PROCEED              998 non-null    float64\n",
      " 38  MORTGAGE_INTEREST_PROCEED    38 non-null     float64\n",
      " 39  RENT_PROCEED                 147 non-null    float64\n",
      " 40  REFINANCE_EIDL_PROCEED       1 non-null      float64\n",
      " 41  HEALTH_CARE_PROCEED          77 non-null     float64\n",
      " 42  DEBT_INTEREST_PROCEED        20 non-null     float64\n",
      " 43  BusinessType                 993 non-null    object \n",
      " 44  OriginatingLenderLocationID  1000 non-null   int64  \n",
      " 45  OriginatingLender            1000 non-null   object \n",
      " 46  OriginatingLenderCity        1000 non-null   object \n",
      " 47  OriginatingLenderState       1000 non-null   object \n",
      " 48  Gender                       1000 non-null   object \n",
      " 49  Veteran                      1000 non-null   object \n",
      " 50  NonProfit                    99 non-null     object \n",
      " 51  ForgivenessAmount            935 non-null    float64\n",
      " 52  ForgivenessDate              935 non-null    object \n",
      "dtypes: float64(11), int64(8), object(34)\n",
      "memory usage: 414.2+ KB\n"
     ]
    }
   ],
   "source": [
    "## get info about data types\n",
    "df.info()"
   ]
  },
  {
   "cell_type": "markdown",
   "id": "733aaa10",
   "metadata": {},
   "source": [
    "### ```.agg()```\n",
    "\n",
    "- Use the ```.agg()``` that allows you call specific summary statistics at one time."
   ]
  },
  {
   "cell_type": "code",
   "execution_count": 7,
   "id": "d8c73b56",
   "metadata": {},
   "outputs": [
    {
     "data": {
      "text/plain": [
       "count       1000.00000\n",
       "mean      964703.54666\n",
       "median    631722.27500\n",
       "Name: CurrentApprovalAmount, dtype: float64"
      ]
     },
     "execution_count": 7,
     "metadata": {},
     "output_type": "execute_result"
    }
   ],
   "source": [
    "## get the count, mean and median for CurrentApprovalAmount\n",
    "result = df['CurrentApprovalAmount'].agg(['count', 'mean', 'median'])\n",
    "result\n"
   ]
  },
  {
   "cell_type": "code",
   "execution_count": 26,
   "id": "RpMjeG-dE4Dt",
   "metadata": {
    "id": "RpMjeG-dE4Dt"
   },
   "outputs": [
    {
     "data": {
      "text/plain": [
       "964703546.6599998"
      ]
     },
     "execution_count": 26,
     "metadata": {},
     "output_type": "execute_result"
    }
   ],
   "source": [
    "## What summary statistics for the CurrentApprovalAmount by Race?\n",
    "## if you get scientific notation, round it by running the display option that changes the default display\n",
    "## run the display code here\n",
    "\n",
    "do=df[\"CurrentApprovalAmount\"].agg(\"sum\")\n",
    "do\n"
   ]
  },
  {
   "cell_type": "code",
   "execution_count": null,
   "id": "dedaa24c",
   "metadata": {},
   "outputs": [],
   "source": []
  },
  {
   "cell_type": "markdown",
   "id": "0d65e155",
   "metadata": {},
   "source": [
    "## ```groupby```"
   ]
  },
  {
   "cell_type": "code",
   "execution_count": 10,
   "id": "701432e0",
   "metadata": {
    "id": "701432e0"
   },
   "outputs": [
    {
     "data": {
      "text/plain": [
       "sum      9.647035e+08\n",
       "count    1.000000e+03\n",
       "mean     9.647035e+05\n",
       "Name: CurrentApprovalAmount, dtype: float64"
      ]
     },
     "execution_count": 10,
     "metadata": {},
     "output_type": "execute_result"
    }
   ],
   "source": [
    "## What is the sum, mean and count for the current \n",
    "## approval amount for owners by race \n",
    "\n",
    "dp=df[\"CurrentApprovalAmount\"].agg([\"sum\",\"count\", \"mean\"])\n",
    "dp"
   ]
  },
  {
   "cell_type": "code",
   "execution_count": 19,
   "id": "2a05c4e4",
   "metadata": {},
   "outputs": [
    {
     "data": {
      "text/plain": [
       "<pandas.core.groupby.generic.DataFrameGroupBy object at 0x7fded0ff3b80>"
      ]
     },
     "execution_count": 19,
     "metadata": {},
     "output_type": "execute_result"
    }
   ],
   "source": [
    "gb=df.groupby(\"Race\")\n",
    "gb"
   ]
  },
  {
   "cell_type": "raw",
   "id": "ca6367b5",
   "metadata": {},
   "source": [
    "## What question(s) might you ask based on this result?\n",
    "\n",
    "List answer(s):\n"
   ]
  },
  {
   "cell_type": "markdown",
   "id": "9e5a62f8",
   "metadata": {},
   "source": [
    "================================"
   ]
  },
  {
   "cell_type": "code",
   "execution_count": 22,
   "id": "df307073",
   "metadata": {},
   "outputs": [
    {
     "data": {
      "text/plain": [
       "sum     8.536388e+08\n",
       "mean    9.129827e+05\n",
       "Name: ForgivenessAmount, dtype: float64"
      ]
     },
     "execution_count": 22,
     "metadata": {},
     "output_type": "execute_result"
    }
   ],
   "source": [
    "## What is the sum and mean for the ForgivenessAmount amount for owners by gender\n",
    "\n",
    "de=df[\"ForgivenessAmount\"].agg([\"sum\",\"mean\"])\n",
    "de"
   ]
  },
  {
   "cell_type": "code",
   "execution_count": 24,
   "id": "40523cce",
   "metadata": {},
   "outputs": [
    {
     "data": {
      "text/plain": [
       "<pandas.core.groupby.generic.DataFrameGroupBy object at 0x7fded0ff35e0>"
      ]
     },
     "execution_count": 24,
     "metadata": {},
     "output_type": "execute_result"
    }
   ],
   "source": [
    "gw=df.groupby(\"Gender\")\n",
    "gw"
   ]
  },
  {
   "cell_type": "code",
   "execution_count": null,
   "id": "1d1203c8",
   "metadata": {},
   "outputs": [],
   "source": []
  },
  {
   "cell_type": "code",
   "execution_count": 29,
   "id": "78547bf3",
   "metadata": {},
   "outputs": [
    {
     "data": {
      "text/plain": [
       "sum      9.647035e+08\n",
       "mean     9.647035e+05\n",
       "count    1.000000e+03\n",
       "Name: CurrentApprovalAmount, dtype: float64"
      ]
     },
     "execution_count": 29,
     "metadata": {},
     "output_type": "execute_result"
    }
   ],
   "source": [
    "## What is the sum, mean and count for the current \n",
    "## approval amount for owners by race and gender\n",
    "\n",
    "dq=df[\"CurrentApprovalAmount\"].agg([\"sum\",\"mean\",\"count\"])\n",
    "dq\n"
   ]
  },
  {
   "cell_type": "code",
   "execution_count": 31,
   "id": "15969f7c",
   "metadata": {},
   "outputs": [
    {
     "data": {
      "text/plain": [
       "<pandas.core.groupby.generic.DataFrameGroupBy object at 0x7fdf01cc7910>"
      ]
     },
     "execution_count": 31,
     "metadata": {},
     "output_type": "execute_result"
    }
   ],
   "source": [
    "gp=df.groupby(\"Gender\")\n",
    "gp"
   ]
  },
  {
   "cell_type": "code",
   "execution_count": 32,
   "id": "b956586a",
   "metadata": {},
   "outputs": [
    {
     "data": {
      "text/plain": [
       "<pandas.core.groupby.generic.DataFrameGroupBy object at 0x7fdf01cc7820>"
      ]
     },
     "execution_count": 32,
     "metadata": {},
     "output_type": "execute_result"
    }
   ],
   "source": [
    "gi=df.groupby(\"Race\")\n",
    "gi"
   ]
  },
  {
   "cell_type": "markdown",
   "id": "8c2c4786",
   "metadata": {},
   "source": [
    "## What question(s) might you ask about the unanswered categories?:\n",
    "List answer(s) here:"
   ]
  },
  {
   "cell_type": "code",
   "execution_count": null,
   "id": "34e17dce",
   "metadata": {},
   "outputs": [],
   "source": []
  }
 ],
 "metadata": {
  "colab": {
   "provenance": [
    {
     "file_id": "1E6lBk0CybDpYiiIpbN9F2vZv4TLTRdMM",
     "timestamp": 1676652349674
    },
    {
     "file_id": "1xGQnNd1p_PPGTl8XhHSTNwgrGJzg3GJL",
     "timestamp": 1676647902051
    },
    {
     "file_id": "13mkVHyvtYcLg0IQu4I7fAqJ0KjUuVhVY",
     "timestamp": 1676556385459
    },
    {
     "file_id": "1-tVOs87v3x9Dtnvny9lYMSSUjYcnPE5r",
     "timestamp": 1676553506628
    }
   ]
  },
  "kernelspec": {
   "display_name": "Python 3 (ipykernel)",
   "language": "python",
   "name": "python3"
  },
  "language_info": {
   "codemirror_mode": {
    "name": "ipython",
    "version": 3
   },
   "file_extension": ".py",
   "mimetype": "text/x-python",
   "name": "python",
   "nbconvert_exporter": "python",
   "pygments_lexer": "ipython3",
   "version": "3.9.13"
  }
 },
 "nbformat": 4,
 "nbformat_minor": 5
}
